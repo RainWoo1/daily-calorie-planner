{
 "cells": [
  {
   "cell_type": "code",
   "execution_count": 1,
   "metadata": {},
   "outputs": [],
   "source": [
    "import requests\n",
    "import json\n",
    "import spacy"
   ]
  },
  {
   "attachments": {},
   "cell_type": "markdown",
   "metadata": {},
   "source": [
    "Load NLP file"
   ]
  },
  {
   "cell_type": "code",
   "execution_count": 2,
   "metadata": {},
   "outputs": [],
   "source": [
    "nlp = spacy.load(\"./Spacy_fine_tuned_NER_for_Food\")"
   ]
  },
  {
   "attachments": {},
   "cell_type": "markdown",
   "metadata": {},
   "source": [
    "### Google Speech API"
   ]
  },
  {
   "cell_type": "code",
   "execution_count": null,
   "metadata": {},
   "outputs": [],
   "source": [
    "%pip install pyttsx3\n",
    "%pip install pyaudio\n",
    "%pip install py3-tts\n",
    "%pip install speechrecognition\n",
    "\n",
    "%brew install portaudio\n",
    "%pip install pyaudio\n",
    "# %pip install keyboard"
   ]
  },
  {
   "cell_type": "code",
   "execution_count": 71,
   "metadata": {},
   "outputs": [
    {
     "name": "stdout",
     "output_type": "stream",
     "text": [
      "i hate blueberries cheesecake\n"
     ]
    },
    {
     "ename": "KeyboardInterrupt",
     "evalue": "",
     "output_type": "error",
     "traceback": [
      "\u001b[0;31m---------------------------------------------------------------------------\u001b[0m",
      "\u001b[0;31mKeyboardInterrupt\u001b[0m                         Traceback (most recent call last)",
      "Cell \u001b[0;32mIn[71], line 37\u001b[0m\n\u001b[1;32m     34\u001b[0m r\u001b[39m.\u001b[39madjust_for_ambient_noise(source2, duration\u001b[39m=\u001b[39m\u001b[39m0.2\u001b[39m)\n\u001b[1;32m     36\u001b[0m \u001b[39m#listens for the user's input \u001b[39;00m\n\u001b[0;32m---> 37\u001b[0m audio2 \u001b[39m=\u001b[39m r\u001b[39m.\u001b[39;49mlisten(source2)\n\u001b[1;32m     39\u001b[0m \u001b[39m# Using google to recognize audio\u001b[39;00m\n\u001b[1;32m     40\u001b[0m MyText \u001b[39m=\u001b[39m r\u001b[39m.\u001b[39mrecognize_google(audio2)\n",
      "File \u001b[0;32m/Library/Frameworks/Python.framework/Versions/3.9/lib/python3.9/site-packages/speech_recognition/__init__.py:523\u001b[0m, in \u001b[0;36mRecognizer.listen\u001b[0;34m(self, source, timeout, phrase_time_limit, snowboy_configuration)\u001b[0m\n\u001b[1;32m    520\u001b[0m \u001b[39mif\u001b[39;00m phrase_time_limit \u001b[39mand\u001b[39;00m elapsed_time \u001b[39m-\u001b[39m phrase_start_time \u001b[39m>\u001b[39m phrase_time_limit:\n\u001b[1;32m    521\u001b[0m     \u001b[39mbreak\u001b[39;00m\n\u001b[0;32m--> 523\u001b[0m buffer \u001b[39m=\u001b[39m source\u001b[39m.\u001b[39;49mstream\u001b[39m.\u001b[39;49mread(source\u001b[39m.\u001b[39;49mCHUNK)\n\u001b[1;32m    524\u001b[0m \u001b[39mif\u001b[39;00m \u001b[39mlen\u001b[39m(buffer) \u001b[39m==\u001b[39m \u001b[39m0\u001b[39m: \u001b[39mbreak\u001b[39;00m  \u001b[39m# reached end of the stream\u001b[39;00m\n\u001b[1;32m    525\u001b[0m frames\u001b[39m.\u001b[39mappend(buffer)\n",
      "File \u001b[0;32m/Library/Frameworks/Python.framework/Versions/3.9/lib/python3.9/site-packages/speech_recognition/__init__.py:199\u001b[0m, in \u001b[0;36mMicrophone.MicrophoneStream.read\u001b[0;34m(self, size)\u001b[0m\n\u001b[1;32m    198\u001b[0m \u001b[39mdef\u001b[39;00m \u001b[39mread\u001b[39m(\u001b[39mself\u001b[39m, size):\n\u001b[0;32m--> 199\u001b[0m     \u001b[39mreturn\u001b[39;00m \u001b[39mself\u001b[39;49m\u001b[39m.\u001b[39;49mpyaudio_stream\u001b[39m.\u001b[39;49mread(size, exception_on_overflow\u001b[39m=\u001b[39;49m\u001b[39mFalse\u001b[39;49;00m)\n",
      "File \u001b[0;32m/Library/Frameworks/Python.framework/Versions/3.9/lib/python3.9/site-packages/pyaudio/__init__.py:570\u001b[0m, in \u001b[0;36mPyAudio.Stream.read\u001b[0;34m(self, num_frames, exception_on_overflow)\u001b[0m\n\u001b[1;32m    567\u001b[0m \u001b[39mif\u001b[39;00m \u001b[39mnot\u001b[39;00m \u001b[39mself\u001b[39m\u001b[39m.\u001b[39m_is_input:\n\u001b[1;32m    568\u001b[0m     \u001b[39mraise\u001b[39;00m \u001b[39mIOError\u001b[39;00m(\u001b[39m\"\u001b[39m\u001b[39mNot input stream\u001b[39m\u001b[39m\"\u001b[39m,\n\u001b[1;32m    569\u001b[0m                   paCanNotReadFromAnOutputOnlyStream)\n\u001b[0;32m--> 570\u001b[0m \u001b[39mreturn\u001b[39;00m pa\u001b[39m.\u001b[39;49mread_stream(\u001b[39mself\u001b[39;49m\u001b[39m.\u001b[39;49m_stream, num_frames,\n\u001b[1;32m    571\u001b[0m                       exception_on_overflow)\n",
      "\u001b[0;31mKeyboardInterrupt\u001b[0m: "
     ]
    }
   ],
   "source": [
    "import speech_recognition as sr\n",
    "import pyttsx3 \n",
    "# import keyboard\n",
    "\n",
    "# sentence\n",
    "sentence = []\n",
    "\n",
    "# Initialize the recognizer \n",
    "r = sr.Recognizer() \n",
    "\n",
    "# Function to convert text to speech\n",
    "def SpeakText(command):\n",
    "\t\n",
    "\t# Initialize the engine\n",
    "\tengine = pyttsx3.init(\"dummy\")\n",
    "\tengine.say(command) \n",
    "\tengine.runAndWait()\n",
    "\t\n",
    "\n",
    "# Loop infinitely for user to speak\n",
    "while True:\n",
    "\t# Exception handling to handle\n",
    "\t# exceptions at the runtime\n",
    "\t# if keyboard.is_pressed('enter'):\n",
    "\t# \tprint(\"Pressed enter\")\n",
    "\t# \tbreak\n",
    "\n",
    "\ttry:\n",
    "\t\t# use the microphone as source for input.\n",
    "\t\twith sr.Microphone() as source2:\n",
    "\t\t\t# wait for a second to let the recognizer\n",
    "\t\t\t# adjust the energy threshold based on\n",
    "\t\t\t# the surrounding noise level \n",
    "\t\t\tr.adjust_for_ambient_noise(source2, duration=0.2)\n",
    "\t\t\t\n",
    "\t\t\t#listens for the user's input \n",
    "\t\t\taudio2 = r.listen(source2)\n",
    "\t\t\t\n",
    "\t\t\t# Using google to recognize audio\n",
    "\t\t\tMyText = r.recognize_google(audio2)\n",
    "\t\t\tMyText = MyText.lower()\n",
    "\n",
    "\t\t\tprint(MyText)\n",
    "\t\t\tsentence.append(MyText)\n",
    "\t\t\tSpeakText(MyText)\n",
    "\t\t\t\n",
    "\texcept sr.RequestError as e:\n",
    "\t\tprint(\"Could not request results; {0}\".format(e))\n",
    "\t\t\n",
    "\texcept sr.UnknownValueError:\n",
    "\t\tprint(\"unknown error occurred\")\n"
   ]
  },
  {
   "cell_type": "code",
   "execution_count": null,
   "metadata": {},
   "outputs": [],
   "source": [
    "print(sentence)"
   ]
  },
  {
   "attachments": {},
   "cell_type": "markdown",
   "metadata": {},
   "source": [
    "### NER food named entry recognition"
   ]
  },
  {
   "cell_type": "code",
   "execution_count": 77,
   "metadata": {},
   "outputs": [
    {
     "name": "stdout",
     "output_type": "stream",
     "text": [
      "blueberries cheesecake FOOD\n"
     ]
    }
   ],
   "source": [
    "# text = \"I had pineapple fried rice with lime based highball.\"\n",
    "# text = \"I love barbecued chicken with corn salad with vanila ice cream.\"\n",
    "text = sentence[0]\n",
    "\n",
    "queries = [] # food names from the text\n",
    "\n",
    "# Process the text using the loaded model\n",
    "doc = nlp(text)\n",
    "\n",
    "for ent in doc.ents:\n",
    "    print(ent.text, ent.label_)\n",
    "    queries.append(ent.text)"
   ]
  },
  {
   "cell_type": "code",
   "execution_count": 78,
   "metadata": {},
   "outputs": [
    {
     "data": {
      "text/plain": [
       "['blueberries cheesecake']"
      ]
     },
     "execution_count": 78,
     "metadata": {},
     "output_type": "execute_result"
    }
   ],
   "source": [
    "queries"
   ]
  },
  {
   "cell_type": "code",
   "execution_count": 63,
   "metadata": {},
   "outputs": [],
   "source": [
    "app_id = \"d5fd616b\"\n",
    "app_key = \"5c06fb4f5bd545920f9d620b5a5a63d4\""
   ]
  },
  {
   "attachments": {},
   "cell_type": "markdown",
   "metadata": {},
   "source": [
    "Autocomplete the given query to find the food name."
   ]
  },
  {
   "cell_type": "code",
   "execution_count": 79,
   "metadata": {},
   "outputs": [
    {
     "name": "stdout",
     "output_type": "stream",
     "text": [
      "Buttermilk Pancakes with Wild Blueberries\n"
     ]
    }
   ],
   "source": [
    "queries_for_nutrients = [] # queries for finding the calories\n",
    "\n",
    "for query in queries:\n",
    "    body = {\n",
    "        \"query\": query\n",
    "    }\n",
    "\n",
    "    url = \"https://trackapi.nutritionix.com/v2/search/instant/?query=\" + query\n",
    "    headers = {\n",
    "        \"Content-Type\": \"application/json\",\n",
    "        \"x-app-id\": app_id,\n",
    "        \"x-app-key\": app_key\n",
    "    }\n",
    "\n",
    "    response = requests.get(url, headers=headers)\n",
    "\n",
    "    if response.status_code != 200:\n",
    "        raise Exception(f\"Error: {response.status_code}\")\n",
    "    else:\n",
    "        response_json = response.json()\n",
    "        branded_food = 0   # check if we found the same food name as query in common food, if not, we use the first element of branded foods\n",
    "        \n",
    "        if \"common\" in response_json:\n",
    "            for common in response_json[\"common\"]:\n",
    "                if common[\"food_name\"].lower() == query.lower(): # if there's a name matching\n",
    "                    branded_food = 1\n",
    "                    print(common[\"food_name\"])\n",
    "                    queries_for_nutrients.append(common[\"food_name\"])\n",
    "                    break\n",
    "\n",
    "        if branded_food == 0 and \"branded\" in response_json:\n",
    "            if response_json[\"branded\"]:\n",
    "                print(response_json[\"branded\"][0][\"food_name\"]) # pop the first element of branded food\n",
    "                queries_for_nutrients.append(response_json[\"branded\"][0][\"food_name\"])\n"
   ]
  },
  {
   "cell_type": "code",
   "execution_count": 80,
   "metadata": {},
   "outputs": [
    {
     "name": "stdout",
     "output_type": "stream",
     "text": [
      "['Buttermilk Pancakes with Wild Blueberries']\n"
     ]
    }
   ],
   "source": [
    "print(queries_for_nutrients)"
   ]
  },
  {
   "attachments": {},
   "cell_type": "markdown",
   "metadata": {},
   "source": [
    "Since we found the food name, print the calories."
   ]
  },
  {
   "cell_type": "code",
   "execution_count": 81,
   "metadata": {},
   "outputs": [
    {
     "name": "stdout",
     "output_type": "stream",
     "text": [
      "buttermilk pancakes: 174.79 calories\n",
      "wild blueberries: 39.9 calories\n"
     ]
    }
   ],
   "source": [
    "calories_information = [] # have {query, calories}\n",
    "index = 0\n",
    "total_calories = 0\n",
    "\n",
    "url = \"https://trackapi.nutritionix.com/v2/natural/nutrients\"\n",
    "headers = {\n",
    "    \"Content-Type\": \"application/json\",\n",
    "    \"x-app-id\": app_id,\n",
    "    \"x-app-key\": app_key\n",
    "}\n",
    "for query_for_nutrients in queries_for_nutrients:\n",
    "    body = {\n",
    "        \"query\": query_for_nutrients\n",
    "    }\n",
    "\n",
    "    response = requests.post(url, headers=headers, data=json.dumps(body))\n",
    "\n",
    "    # check if the key \"foods\" exists in the JSON response\n",
    "    if \"foods\" in response.json():\n",
    "        sum_calories = 0\n",
    "        for food in response.json()[\"foods\"]:\n",
    "            print(food[\"food_name\"] + \": \" + str(food[\"nf_calories\"]) + \" calories\")\n",
    "            sum_calories += food[\"nf_calories\"]\n",
    "\n",
    "        total_calories += sum_calories\n",
    "        calories_information.append({queries[index]: sum_calories})\n",
    "        index = index + 1\n",
    "    else:\n",
    "        print(\"No foods found for query:\", query)"
   ]
  },
  {
   "cell_type": "code",
   "execution_count": 82,
   "metadata": {},
   "outputs": [
    {
     "name": "stdout",
     "output_type": "stream",
     "text": [
      "[{'blueberries cheesecake': 214.69}]\n"
     ]
    }
   ],
   "source": [
    "print(calories_information)"
   ]
  },
  {
   "cell_type": "code",
   "execution_count": 83,
   "metadata": {},
   "outputs": [
    {
     "name": "stdout",
     "output_type": "stream",
     "text": [
      "214.69\n"
     ]
    }
   ],
   "source": [
    "print(total_calories)"
   ]
  }
 ],
 "metadata": {
  "kernelspec": {
   "display_name": "Python 3",
   "language": "python",
   "name": "python3"
  },
  "language_info": {
   "codemirror_mode": {
    "name": "ipython",
    "version": 3
   },
   "file_extension": ".py",
   "mimetype": "text/x-python",
   "name": "python",
   "nbconvert_exporter": "python",
   "pygments_lexer": "ipython3",
   "version": "3.9.13"
  },
  "vscode": {
   "interpreter": {
    "hash": "aee8b7b246df8f9039afb4144a1f6fd8d2ca17a180786b69acc140d282b71a49"
   }
  }
 },
 "nbformat": 4,
 "nbformat_minor": 2
}
