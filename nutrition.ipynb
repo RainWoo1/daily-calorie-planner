{
 "cells": [
  {
   "cell_type": "code",
   "execution_count": 1,
   "metadata": {},
   "outputs": [],
   "source": [
    "import requests\n",
    "import json"
   ]
  },
  {
   "cell_type": "code",
   "execution_count": 2,
   "metadata": {},
   "outputs": [],
   "source": [
    "app_id = \"d5fd616b\"\n",
    "app_key = \"5c06fb4f5bd545920f9d620b5a5a63d4\""
   ]
  },
  {
   "cell_type": "markdown",
   "metadata": {},
   "source": [
    "Given the food name, print the calories."
   ]
  },
  {
   "cell_type": "code",
   "execution_count": 7,
   "metadata": {},
   "outputs": [
    {
     "name": "stdout",
     "output_type": "stream",
     "text": [
      "grape: 33.81 calories\n"
     ]
    }
   ],
   "source": [
    "url = \"https://trackapi.nutritionix.com/v2/natural/nutrients\"\n",
    "headers = {\n",
    "    \"Content-Type\": \"application/json\",\n",
    "    \"x-app-id\": app_id,\n",
    "    \"x-app-key\": app_key\n",
    "}\n",
    "body = {\n",
    "    \"query\": \"grape\"\n",
    "}\n",
    "\n",
    "response = requests.post(url, headers=headers, data=json.dumps(body))\n",
    "\n",
    "for food in response.json()[\"foods\"]:\n",
    "    print(food[\"food_name\"] + \": \" + str(food[\"nf_calories\"]) + \" calories\")"
   ]
  },
  {
   "cell_type": "markdown",
   "metadata": {},
   "source": [
    "Autocomplete the given query."
   ]
  },
  {
   "cell_type": "code",
   "execution_count": 9,
   "metadata": {},
   "outputs": [
    {
     "name": "stdout",
     "output_type": "stream",
     "text": [
      "hamburger\n",
      "hamburgers\n",
      "hamburger bun\n",
      "soy hamburger\n",
      "hamburger meat\n",
      "lean hamburger\n",
      "hamburger taco\n",
      "hamburger buns\n",
      "hamburger soup\n",
      "beef hamburger\n",
      "hamburger patty\n",
      "hamburger steak\n",
      "double hamburger\n",
      "ground hamburger\n",
      "turkey hamburger\n",
      "hamburger no bun\n",
      "grilled hamburger\n",
      "hamburger patties\n",
      "fast food hamburger\n",
      "cheeseburger macaroni hamburger helper\n",
      "Hamburger\n",
      "Hamburger Buns, Enriched\n",
      "Buns, Hamburger\n",
      "Hamburger Buns, Classic\n",
      "Hamburger Buns\n",
      "Hamburger Buns, Sesame\n",
      "Hamburger Buns, Brioche Style\n",
      "Keto Friendly Hamburger Buns\n",
      "Hamburger Buns, Enriched, White\n",
      "Hamburger Buns, Hamburger, Sliced\n",
      "Hamburger Buns, Soft White\n",
      "Keto Hamburger Buns\n",
      "Hamburger Dill Chips\n",
      "Hamburger Buns, Butter\n",
      "White Hamburger Buns\n",
      "Hamburger Stackers, Dill\n",
      "Hamburger Buns, Classic White\n",
      "Ovals Hamburger Dill Chips\n",
      "BLT\n",
      "Cheeseburger\n"
     ]
    }
   ],
   "source": [
    "query = \"hamburger\"\n",
    "\n",
    "url = \"https://trackapi.nutritionix.com/v2/search/instant/?query=\" + query\n",
    "headers = {\n",
    "    \"Content-Type\": \"application/json\",\n",
    "    \"x-app-id\": app_id,\n",
    "    \"x-app-key\": app_key\n",
    "}\n",
    "\n",
    "response = requests.get(url, headers=headers)\n",
    "\n",
    "if response.status_code != 200:\n",
    "    raise Exception(f\"Error: {response.status_code}\")\n",
    "else:\n",
    "    for common in response.json()[\"common\"]:\n",
    "        print(common[\"food_name\"])\n",
    "    for branded in response.json()[\"branded\"]:\n",
    "        print(branded[\"food_name\"])\n"
   ]
  },
  {
   "cell_type": "markdown",
   "metadata": {},
   "source": [
    "Given the UPC code, print the food"
   ]
  },
  {
   "cell_type": "code",
   "execution_count": 10,
   "metadata": {},
   "outputs": [
    {
     "name": "stdout",
     "output_type": "stream",
     "text": [
      "{'food_name': 'Diet Cola', 'brand_name': 'Coke', 'serving_qty': 1, 'serving_unit': 'bottle', 'serving_weight_grams': 226, 'nf_metric_qty': 591, 'nf_metric_uom': 'ml', 'nf_calories': 0, 'nf_total_fat': 0, 'nf_saturated_fat': None, 'nf_cholesterol': None, 'nf_sodium': 70, 'nf_total_carbohydrate': 0, 'nf_dietary_fiber': None, 'nf_sugars': None, 'nf_protein': 0, 'nf_potassium': None, 'nf_p': None, 'full_nutrients': [{'attr_id': 203, 'value': 0}, {'attr_id': 204, 'value': 0}, {'attr_id': 205, 'value': 0}, {'attr_id': 208, 'value': 0}, {'attr_id': 307, 'value': 70}], 'nix_brand_name': 'Coke', 'nix_brand_id': '51db3801176fe9790a89ae0b', 'nix_item_name': 'Diet Cola', 'nix_item_id': '51d2fae7cc9bff111580d8d8', 'metadata': {}, 'source': 8, 'ndb_no': None, 'alt_measures': None, 'lat': None, 'lng': None, 'photo': {'thumb': 'https://nutritionix-api.s3.amazonaws.com/5b5c17c429f162275dc922b0.jpeg', 'highres': None, 'is_user_uploaded': False}, 'note': None, 'class_code': None, 'brick_code': None, 'tag_id': None, 'updated_at': '2022-06-22T03:14:26+00:00', 'nf_ingredient_statement': 'Carbonated Water, Caramel Color, Aspartame, Phosphoric Acid, Potassium Benzoate (to Protect Taste), Natural Flavors, Citric Acid, Caffeine.'}\n"
     ]
    }
   ],
   "source": [
    "upc = \"49000000450\"\n",
    "\n",
    "url = \"https://trackapi.nutritionix.com/v2/search/item/?upc=\" + upc\n",
    "headers = {\n",
    "    \"Content-Type\": \"application/x-www-form-urlencoded\",\n",
    "    \"x-app-id\": app_id,\n",
    "    \"x-app-key\": app_key\n",
    "}\n",
    "\n",
    "response = requests.get(url, headers=headers)\n",
    "\n",
    "if response.status_code != 200:\n",
    "    raise Exception(f\"Error: {response.status_code}\")\n",
    "else:\n",
    "    # print(response.json())\n",
    "    for food in response.json()[\"foods\"]:\n",
    "        print(food)\n"
   ]
  },
  {
   "cell_type": "markdown",
   "metadata": {},
   "source": [
    "Given the amount of exercise, print the exercise information"
   ]
  },
  {
   "cell_type": "code",
   "execution_count": 11,
   "metadata": {},
   "outputs": [
    {
     "name": "stdout",
     "output_type": "stream",
     "text": [
      "{'exercises': [{'tag_id': 63, 'user_input': 'swam', 'duration_min': 60, 'met': 6, 'nf_calories': 420, 'photo': {'highres': 'https://d2xdmhkmkbyw75.cloudfront.net/exercise//63_highres.jpg', 'thumb': 'https://d2xdmhkmkbyw75.cloudfront.net/exercise//63_thumb.jpg', 'is_user_uploaded': False}, 'compendium_code': 18310, 'name': 'swimming', 'description': None, 'benefits': None}]}\n"
     ]
    }
   ],
   "source": [
    "url = 'https://trackapi.nutritionix.com/v2/natural/exercise'\n",
    "headers = {\n",
    "    'Content-Type': 'application/json',\n",
    "    'x-app-id': app_id,\n",
    "    'x-app-key': app_key\n",
    "}\n",
    "body = {\n",
    "    \"query\": \"swam for 1 hour\"\n",
    "}\n",
    "\n",
    "response = requests.post(url, headers=headers, data=json.dumps(body))\n",
    "\n",
    "if response.status_code != 200:\n",
    "    raise Exception(f\"Error: {response.status_code}\")\n",
    "else:\n",
    "    print(response.json())\n"
   ]
  }
 ],
 "metadata": {
  "kernelspec": {
   "display_name": "Python 3",
   "language": "python",
   "name": "python3"
  },
  "language_info": {
   "codemirror_mode": {
    "name": "ipython",
    "version": 3
   },
   "file_extension": ".py",
   "mimetype": "text/x-python",
   "name": "python",
   "nbconvert_exporter": "python",
   "pygments_lexer": "ipython3",
   "version": "3.11.3"
  }
 },
 "nbformat": 4,
 "nbformat_minor": 2
}
