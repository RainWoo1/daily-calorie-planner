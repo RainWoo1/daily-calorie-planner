{
 "cells": [
  {
   "cell_type": "code",
   "execution_count": 1,
   "metadata": {},
   "outputs": [],
   "source": [
    "import requests\n",
    "import json\n",
    "import spacy"
   ]
  },
  {
   "attachments": {},
   "cell_type": "markdown",
   "metadata": {},
   "source": [
    "Load NLP file"
   ]
  },
  {
   "cell_type": "code",
   "execution_count": 2,
   "metadata": {},
   "outputs": [],
   "source": [
    "nlp = spacy.load(\"./Spacy_fine_tuned_NER_for_Food\")"
   ]
  },
  {
   "cell_type": "code",
   "execution_count": 61,
   "metadata": {},
   "outputs": [
    {
     "name": "stdout",
     "output_type": "stream",
     "text": [
      "barbecued chicken FOOD\n",
      "corn salad FOOD\n",
      "ice cream FOOD\n"
     ]
    }
   ],
   "source": [
    "# text = \"I had pineapple fried rice with lime based highball.\"\n",
    "text = \"I love barbecued chicken with corn salad with vanila ice cream.\"\n",
    "\n",
    "queries = [] # food names from the text\n",
    "\n",
    "\n",
    "# Process the text using the loaded model\n",
    "doc = nlp(text)\n",
    "\n",
    "for ent in doc.ents:\n",
    "    print(ent.text, ent.label_)\n",
    "    queries.append(ent.text)"
   ]
  },
  {
   "cell_type": "code",
   "execution_count": 62,
   "metadata": {},
   "outputs": [
    {
     "data": {
      "text/plain": [
       "['barbecued chicken', 'corn salad', 'ice cream']"
      ]
     },
     "execution_count": 62,
     "metadata": {},
     "output_type": "execute_result"
    }
   ],
   "source": [
    "queries"
   ]
  },
  {
   "cell_type": "code",
   "execution_count": 63,
   "metadata": {},
   "outputs": [],
   "source": [
    "app_id = \"d5fd616b\"\n",
    "app_key = \"5c06fb4f5bd545920f9d620b5a5a63d4\""
   ]
  },
  {
   "attachments": {},
   "cell_type": "markdown",
   "metadata": {},
   "source": [
    "Autocomplete the given query to find the food name."
   ]
  },
  {
   "cell_type": "code",
   "execution_count": 64,
   "metadata": {},
   "outputs": [
    {
     "name": "stdout",
     "output_type": "stream",
     "text": [
      "Barbecued Pork Ribs\n",
      "corn salad\n",
      "ice cream\n"
     ]
    }
   ],
   "source": [
    "queries_for_nutrients = [] # queries for finding the calories\n",
    "\n",
    "for query in queries:\n",
    "    body = {\n",
    "        \"query\": query\n",
    "    }\n",
    "\n",
    "    url = \"https://trackapi.nutritionix.com/v2/search/instant/?query=\" + query\n",
    "    headers = {\n",
    "        \"Content-Type\": \"application/json\",\n",
    "        \"x-app-id\": app_id,\n",
    "        \"x-app-key\": app_key\n",
    "    }\n",
    "\n",
    "    response = requests.get(url, headers=headers)\n",
    "\n",
    "    if response.status_code != 200:\n",
    "        raise Exception(f\"Error: {response.status_code}\")\n",
    "    else:\n",
    "        response_json = response.json()\n",
    "        branded_food = 0   # check if we found the same food name as query in common food, if not, we use the first element of branded foods\n",
    "        \n",
    "        if \"common\" in response_json:\n",
    "            for common in response_json[\"common\"]:\n",
    "                if common[\"food_name\"].lower() == query.lower(): # if there's a name matching\n",
    "                    branded_food = 1\n",
    "                    print(common[\"food_name\"])\n",
    "                    queries_for_nutrients.append(common[\"food_name\"])\n",
    "                    break\n",
    "\n",
    "        if branded_food == 0 and \"branded\" in response_json:\n",
    "            if response_json[\"branded\"]:\n",
    "                print(response_json[\"branded\"][0][\"food_name\"]) # pop the first element of branded food\n",
    "                queries_for_nutrients.append(response_json[\"branded\"][0][\"food_name\"])\n"
   ]
  },
  {
   "cell_type": "code",
   "execution_count": 65,
   "metadata": {},
   "outputs": [
    {
     "name": "stdout",
     "output_type": "stream",
     "text": [
      "['Barbecued Pork Ribs', 'corn salad', 'ice cream']\n"
     ]
    }
   ],
   "source": [
    "print(queries_for_nutrients)"
   ]
  },
  {
   "attachments": {},
   "cell_type": "markdown",
   "metadata": {},
   "source": [
    "Since we found the food name, print the calories."
   ]
  },
  {
   "cell_type": "code",
   "execution_count": 68,
   "metadata": {},
   "outputs": [
    {
     "name": "stdout",
     "output_type": "stream",
     "text": [
      "pork ribs: 126.35 calories\n",
      "corn salad: 238.7 calories\n",
      "ice cream: 273.24 calories\n"
     ]
    }
   ],
   "source": [
    "calories_information = [] # have {query, calories}\n",
    "index = 0\n",
    "total_calories = 0\n",
    "\n",
    "url = \"https://trackapi.nutritionix.com/v2/natural/nutrients\"\n",
    "headers = {\n",
    "    \"Content-Type\": \"application/json\",\n",
    "    \"x-app-id\": app_id,\n",
    "    \"x-app-key\": app_key\n",
    "}\n",
    "for query_for_nutrients in queries_for_nutrients:\n",
    "    body = {\n",
    "        \"query\": query_for_nutrients\n",
    "    }\n",
    "\n",
    "    response = requests.post(url, headers=headers, data=json.dumps(body))\n",
    "\n",
    "    # check if the key \"foods\" exists in the JSON response\n",
    "    if \"foods\" in response.json():\n",
    "        sum_calories = 0\n",
    "        for food in response.json()[\"foods\"]:\n",
    "            print(food[\"food_name\"] + \": \" + str(food[\"nf_calories\"]) + \" calories\")\n",
    "            sum_calories += food[\"nf_calories\"]\n",
    "\n",
    "        total_calories += sum_calories\n",
    "        calories_information.append({queries[index]: sum_calories})\n",
    "        index = index + 1\n",
    "    else:\n",
    "        print(\"No foods found for query:\", query)"
   ]
  },
  {
   "cell_type": "code",
   "execution_count": 69,
   "metadata": {},
   "outputs": [
    {
     "name": "stdout",
     "output_type": "stream",
     "text": [
      "[{'barbecued chicken': 126.35}, {'corn salad': 238.7}, {'ice cream': 273.24}]\n"
     ]
    }
   ],
   "source": [
    "print(calories_information)"
   ]
  },
  {
   "cell_type": "code",
   "execution_count": 70,
   "metadata": {},
   "outputs": [
    {
     "name": "stdout",
     "output_type": "stream",
     "text": [
      "638.29\n"
     ]
    }
   ],
   "source": [
    "print(total_calories)"
   ]
  }
 ],
 "metadata": {
  "kernelspec": {
   "display_name": "Python 3",
   "language": "python",
   "name": "python3"
  },
  "language_info": {
   "codemirror_mode": {
    "name": "ipython",
    "version": 3
   },
   "file_extension": ".py",
   "mimetype": "text/x-python",
   "name": "python",
   "nbconvert_exporter": "python",
   "pygments_lexer": "ipython3",
   "version": "3.9.13"
  },
  "vscode": {
   "interpreter": {
    "hash": "aee8b7b246df8f9039afb4144a1f6fd8d2ca17a180786b69acc140d282b71a49"
   }
  }
 },
 "nbformat": 4,
 "nbformat_minor": 2
}
